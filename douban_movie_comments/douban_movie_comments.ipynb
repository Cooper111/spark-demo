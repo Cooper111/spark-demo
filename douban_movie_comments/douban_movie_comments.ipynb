{
 "cells": [
  {
   "cell_type": "code",
   "execution_count": 13,
   "metadata": {
    "collapsed": true
   },
   "outputs": [],
   "source": [
    "originData = sc.textFile('douban-movie-comments.csv')"
   ]
  },
  {
   "cell_type": "code",
   "execution_count": 14,
   "metadata": {
    "collapsed": false
   },
   "outputs": [
    {
     "data": {
      "text/plain": [
       "5989"
      ]
     },
     "execution_count": 14,
     "metadata": {},
     "output_type": "execute_result"
    }
   ],
   "source": [
    "originData.count()"
   ]
  },
  {
   "cell_type": "code",
   "execution_count": 15,
   "metadata": {
    "collapsed": true
   },
   "outputs": [],
   "source": [
    "originDistinctData = originData.distinct()"
   ]
  },
  {
   "cell_type": "code",
   "execution_count": 16,
   "metadata": {
    "collapsed": false
   },
   "outputs": [
    {
     "data": {
      "text/plain": [
       "5739"
      ]
     },
     "execution_count": 16,
     "metadata": {},
     "output_type": "execute_result"
    }
   ],
   "source": [
    "originDistinctData.count()"
   ]
  },
  {
   "cell_type": "code",
   "execution_count": 36,
   "metadata": {
    "collapsed": true
   },
   "outputs": [],
   "source": [
    "rateDocument = originDistinctData.map(lambda line: line.split(',')).filter(lambda line: len(line) == 2)"
   ]
  },
  {
   "cell_type": "code",
   "execution_count": 37,
   "metadata": {
    "collapsed": false
   },
   "outputs": [
    {
     "data": {
      "text/plain": [
       "5463"
      ]
     },
     "execution_count": 37,
     "metadata": {},
     "output_type": "execute_result"
    }
   ],
   "source": [
    "rateDocument.count()"
   ]
  },
  {
   "cell_type": "code",
   "execution_count": 38,
   "metadata": {
    "collapsed": false
   },
   "outputs": [
    {
     "data": {
      "text/plain": [
       "[[u'4.0',\n",
       "  u' \\u539f\\u4f5c\\u91cc\\u7684\\u4e00\\u4e9b\\u8d85\\u7ea7\\u7ecf\\u5178\\u7684\\u6897\\uff0c\\u5728\\u8fd9\\u90e8\\u7eed\\u96c6\\u91cc\\u90fd\\u88ab\\u7528\\u4e0a\\u4e86\\u3002\\u6bd4\\u5982\\u90a3\\u4e2a\\u5403\\u4e86\\u7ea2\\u85af\\u540e\\u653e\\u5927\\u5c41\\u7684\\u6897\\uff0c\\u6765\\u5f97\\u771f\\u591f\\u6b8b\\u66b4\\u7684\\u3002'],\n",
       " [u'1.0',\n",
       "  u' \\u5b8c\\u5168\\u6ca1\\u6709\\u8bda\\u610f\\u7684\\u6b3a\\u9a97\\uff0c0\\u5267\\u60c50\\u6f14\\u6280\\uff0c\\u5982\\u679c\\u4e0d\\u662f\\u65f6\\u95f4\\u5f88\\u591a\\uff0c\\u5343\\u4e07\\u522b\\u6d6a\\u8d39\\u4e86'],\n",
       " [u'1.0', u' \\u51b7\\u996d\\uff0c\\u5168\\u90fd\\u662f\\u51b7\\u996d\\u3002']]"
      ]
     },
     "execution_count": 38,
     "metadata": {},
     "output_type": "execute_result"
    }
   ],
   "source": [
    "rateDocument.take(3)"
   ]
  },
  {
   "cell_type": "code",
   "execution_count": 55,
   "metadata": {
    "collapsed": false
   },
   "outputs": [],
   "source": [
    "fiveRateDocument = rateDocument.filter(lambda line: line[0] == '5.0') \n",
    "fourRateDocument = rateDocument.filter(lambda line: line[0] == '4.0')\n",
    "threeRateDocument = rateDocument.filter(lambda line: line[0] == '3.0')\n",
    "twoRateDocument = rateDocument.filter(lambda line: line[0] == '2.0')\n",
    "oneRateDocument = rateDocument.filter(lambda line: line[0] == '1.0')"
   ]
  },
  {
   "cell_type": "code",
   "execution_count": 57,
   "metadata": {
    "collapsed": false
   },
   "outputs": [
    {
     "name": "stdout",
     "output_type": "stream",
     "text": [
      "920\n",
      "552\n",
      "509\n",
      "602\n",
      "2687\n"
     ]
    }
   ],
   "source": [
    "print(fiveRateDocument.count())\n",
    "print(fourRateDocument.count())\n",
    "print(threeRateDocument.count())\n",
    "print(twoRateDocument.count())\n",
    "print(oneRateDocument.count())"
   ]
  },
  {
   "cell_type": "code",
   "execution_count": 74,
   "metadata": {
    "collapsed": false
   },
   "outputs": [
    {
     "name": "stdout",
     "output_type": "stream",
     "text": [
      "1472\n",
      "3798\n"
     ]
    }
   ],
   "source": [
    "posRateDocument = fourRateDocument.union(fiveRateDocument)\n",
    "negRateDocument = (oneRateDocument.union(twoRateDocument).union(threeRateDocument))\n",
    "\n",
    "print(posRateDocument.count())\n",
    "print(negRateDocument.count())"
   ]
  },
  {
   "cell_type": "code",
   "execution_count": 75,
   "metadata": {
    "collapsed": false
   },
   "outputs": [],
   "source": [
    "negRateDocument = sc.parallelize(negRateDocument.take(posRateDocument.count()))"
   ]
  },
  {
   "cell_type": "code",
   "execution_count": 76,
   "metadata": {
    "collapsed": false
   },
   "outputs": [
    {
     "name": "stdout",
     "output_type": "stream",
     "text": [
      "1472\n",
      "1472\n"
     ]
    }
   ],
   "source": [
    "print(posRateDocument.count())\n",
    "print(negRateDocument.count())"
   ]
  },
  {
   "cell_type": "code",
   "execution_count": 77,
   "metadata": {
    "collapsed": false
   },
   "outputs": [
    {
     "data": {
      "text/plain": [
       "MapPartitionsRDD[141] at repartition at NativeMethodAccessorImpl.java:-2"
      ]
     },
     "execution_count": 77,
     "metadata": {},
     "output_type": "execute_result"
    }
   ],
   "source": [
    "posRateDocument.repartition(1)\n",
    "negRateDocument.repartition(1)"
   ]
  },
  {
   "cell_type": "code",
   "execution_count": 104,
   "metadata": {
    "collapsed": true
   },
   "outputs": [],
   "source": [
    "allRateDocument = posRateDocument.union(negRateDocument)\n",
    "allRateDocument.repartition(1)\n",
    "rate = allRateDocument.map(lambda s: s[0])\n",
    "document = allRateDocument.map(lambda s: s[1])"
   ]
  },
  {
   "cell_type": "code",
   "execution_count": 106,
   "metadata": {
    "collapsed": false
   },
   "outputs": [],
   "source": [
    "import jieba\n",
    "\n",
    "words = document.map(lambda w: \"/\".join(jieba.cut_for_search(w))).map(lambda line: line.split(\"/\"))"
   ]
  },
  {
   "cell_type": "code",
   "execution_count": 107,
   "metadata": {
    "collapsed": false
   },
   "outputs": [
    {
     "data": {
      "text/plain": [
       "PythonRDD[195] at RDD at PythonRDD.scala:48"
      ]
     },
     "execution_count": 107,
     "metadata": {},
     "output_type": "execute_result"
    }
   ],
   "source": [
    "from pyspark.mllib.feature import HashingTF, IDF\n",
    "hashingTF = HashingTF()\n",
    "tf = hashingTF.transform(words)\n",
    "tf.cache()"
   ]
  },
  {
   "cell_type": "code",
   "execution_count": 108,
   "metadata": {
    "collapsed": false
   },
   "outputs": [],
   "source": [
    "idfModel = IDF().fit(tf)\n",
    "tfidf = idfModel.transform(tf)"
   ]
  },
  {
   "cell_type": "code",
   "execution_count": 112,
   "metadata": {
    "collapsed": false
   },
   "outputs": [],
   "source": [
    "from pyspark.mllib.regression import LabeledPoint\n",
    "\n",
    "zipped = rate.zip(tfidf)\n",
    "data = zipped.map(lambda line: LabeledPoint(line[0], line[1]))\n",
    "training,test = data.randomSplit([0.6, 0.4], seed=0)"
   ]
  },
  {
   "cell_type": "code",
   "execution_count": 113,
   "metadata": {
    "collapsed": false
   },
   "outputs": [],
   "source": [
    "from pyspark.mllib.classification import NaiveBayes\n",
    "\n",
    "NBmodel = NaiveBayes.train(training, 1.0)\n",
    "predictionAndLabel = test.map(lambda p: (NBmodel.predict(p.features), p.label))\n",
    "accuracy = 1.0 * predictionAndLabel.filter(lambda x: 1.0 if x[0] == x[1] else 0.0).count()"
   ]
  },
  {
   "cell_type": "code",
   "execution_count": 139,
   "metadata": {
    "collapsed": false
   },
   "outputs": [
    {
     "name": "stdout",
     "output_type": "stream",
     "text": [
      "NaiveBayes Model Predict: 5\n"
     ]
    }
   ],
   "source": [
    "# yourDocument = input(\"Please input your comment:\")\n",
    "yourWords = \"/\".join(jieba.cut_for_search(\"well good\")).split(\"/\")\n",
    "yourtf = hashingTF.transform(yourWords)\n",
    "yourtfidf = idfModel.transform(yourtf)\n",
    "print(\"NaiveBayes Model Predict: %d\" % NBmodel.predict(yourtfidf))"
   ]
  },
  {
   "cell_type": "code",
   "execution_count": null,
   "metadata": {
    "collapsed": true
   },
   "outputs": [],
   "source": []
  }
 ],
 "metadata": {
  "kernelspec": {
   "display_name": "Python [Root]",
   "language": "python",
   "name": "Python [Root]"
  },
  "language_info": {
   "codemirror_mode": {
    "name": "ipython",
    "version": 2
   },
   "file_extension": ".py",
   "mimetype": "text/x-python",
   "name": "python",
   "nbconvert_exporter": "python",
   "pygments_lexer": "ipython2",
   "version": "2.7.12"
  }
 },
 "nbformat": 4,
 "nbformat_minor": 0
}
